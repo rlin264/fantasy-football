{
 "cells": [
  {
   "cell_type": "code",
   "execution_count": 1,
   "metadata": {},
   "outputs": [],
   "source": [
    "from __future__ import absolute_import, division, print_function, unicode_literals\n",
    "\n",
    "import pathlib\n",
    "\n",
    "import matplotlib.pyplot as plt\n",
    "import pandas as pd\n",
    "\n",
    "import tensorflow as tf\n",
    "\n",
    "from tensorflow import keras\n",
    "from tensorflow.keras import layers"
   ]
  },
  {
   "cell_type": "code",
   "execution_count": 2,
   "metadata": {},
   "outputs": [
    {
     "name": "stdout",
     "output_type": "stream",
     "text": [
      "2.0.0\n"
     ]
    }
   ],
   "source": [
    "print(tf.__version__)"
   ]
  },
  {
   "cell_type": "code",
   "execution_count": 3,
   "metadata": {},
   "outputs": [],
   "source": [
    "def data_processing(file_name, file_name_D):\n",
    "    \"\"\"\n",
    "    Read the csv files and create game characterstic features and player statistic features\n",
    "    \"\"\"\n",
    "    df = pd.read_csv(file_name)\n",
    "    df_D = pd.read_csv(file_name_D)\n",
    "    df.sort_values(by = ['Name', 'Unnamed: 2_level_0 G#']) # for rolling average\n",
    "    # All box score player stats, except defensive statistics\n",
    "#     stats = ['Passing AY/A', 'Passing Att', 'Passing Cmp', 'Passing Cmp%',\n",
    "#             'Passing Int', 'Passing Rate','Passing Yds','FPoints']\n",
    "    stats = ['Passing Yds','FPoints']\n",
    "    # Opponent Characteristics\n",
    "    df, opp_features = get_opp_d(df, df_D)\n",
    "    # Game Characteristic Indicators, e.g. home/away, opponent, team\n",
    "#     df, game_features = get_game_char_indicators(df)\n",
    "    # Player Statistic Features, e.g. Season, last 4 weeks, previous week\n",
    "    df, player_features = get_player_averages(df, stats)\n",
    "#     features = game_features + player_features\n",
    "#     features = player_features\n",
    "    features = player_features + opp_features\n",
    "    df = df.fillna(0)\n",
    "    return df, features\n",
    "\n",
    "\n",
    "def get_game_char_indicators(df):\n",
    "    \"\"\"\n",
    "    Transform str cols into game categorical variables\n",
    "    Returns transformed and columns\n",
    "    \"\"\"\n",
    "    df['home'] = 1 * df['Unnamed: 6_level_0 Unnamed: 6_level_1'] == '0'\n",
    "    oppts = pd.get_dummies(df['Unnamed: 7_level_0 Opp'], prefix='Oppt')\n",
    "    teams = pd.DataFrame()\n",
    "    team_list = pd.Series('ARI', 'ATL', 'BAL', 'BUF', 'CAR', 'CHI', 'CIN', 'CLE', 'DAL', 'DEN', 'DET',\\\n",
    "                           'GB', 'HOU', 'IND', 'JAC', 'KC', 'MIA', 'MIN', 'NE', 'NO', 'NYG', 'NYJ',\\\n",
    "                           'OAK', 'PHI', 'PIT', 'SD', 'SEA', 'SF', 'STL', 'TB', 'TEN', 'WAS')\n",
    "    for team in df['Unnamed: 5_level_0 Tm']:\n",
    "        temp = (team_list == team)\n",
    "        teams = teams.append(temp, ignore_index=True)\n",
    "    teams.index = range(len(df['Unnamed: 5_level_0 Tm']))\n",
    "    teams.columns = list(team_list)\n",
    "    df = pd.concat([df, oppts, teams], axis=1)\n",
    "    return df, ['home'] + list(oppts.columns) + list(team_list)\n",
    "\n",
    "def get_opp_d(df, df_D):\n",
    "\n",
    "    d_stats = ['Passing Yds', 'Passing 1stD','Sc%','Unnamed: 26_level_0 TO%']\n",
    "    df_D['Season']= df_D['Season'].astype(str)\n",
    "#     for stat in df[d_stats + ['FPoints']]:\n",
    "#         opp = abbrev_dict[df['Unnamed: 7_level_0 Opp']]\n",
    "#         df['D_'+stat] = df_D.loc[df_D['Tm'] == opp][stat]\n",
    "    for stat in d_stats:\n",
    "#         print(stat)\n",
    "        df[stat] = df.apply(lambda row: get_team_stat(row,stat,df_D), axis=1)\n",
    "    return df, d_stats\n",
    "def get_team_stat(row,stat,df_D):\n",
    "    abbrev_dict = {'ARI':'Arizona Cardinals', 'ATL':'Atlanta Falcons', 'BAL':'Baltimore Ravens', 'BUF':'Buffalo Bills', \n",
    "                          'CAR':'Carolina Panthers', 'CHI':'Chicago Bears', 'CIN':'Cincinnati Bengals', \n",
    "                          'CLE':'Cleveland Browns', 'DAL':'Dallas Cowboys', 'DEN':'Denver Broncos', 'DET':'Detroit Lions', \n",
    "                          'GB':'Green Bay Packers','GNB':'Green Bay Packers', 'HOU': 'Houston Texans', 'IND':'Indianapolis Colts', \n",
    "                          'JAC':'Jacksonville Jaguars', 'JAX':'Jacksonville Jaguars','KAN':'Kansas City Chiefs','KC':'Kansas City Chiefs','LAC':'Los Angeles Chargers',\n",
    "                          'LAR':'Los Angeles Rams', 'MIA':'Miami Dolphins', 'MIN':'Minnesota Vikings','NE':'New England Patriots','NWE':'New England Patriots',\n",
    "                          'NO':'New Orleans Saints','NOR':'New Orleans Saints', 'NYG':'New York Giants', 'NYJ':'New York Jets','OAK':'Oakland Raiders', \n",
    "                          'PHI':'Philadelphia Eagles', 'PIT':'Pittsburgh Steelers', 'SD':'San Diego Chargers', 'SDG':'San Diego Chargers', 'SEA':'Seattle Seahawks', \n",
    "                          'SF':'San Francisco 49ers', 'SFO':'San Francisco 49ers','STL':'St. Louis Rams', 'TB':'Tampa Bay Buccaneers',\n",
    "                           'TEN':'Tennessee Titans', 'TAM':'Tampa Bay Buccaneers',\n",
    "                          'WAS':'Washington Redskins'}\n",
    "#     print(row)\n",
    "#     print(df_D['Season'])\n",
    "    df_D.index=df_D['Tm']+df_D['Season']\n",
    "#     print(df_D)\n",
    "    opp = abbrev_dict[row['Unnamed: 7_level_0 Opp']]+str(row['Season'])\n",
    "#     print(type(df_D.loc[df_D['Tm']==opp][stat]))\n",
    "#     print(opp,stat)\n",
    "    return df_D.at[opp,stat]\n",
    "\n",
    "def rolling_average(df, window):\n",
    "    return df.rolling(min_periods=1, window=window).mean().shift(1)\n",
    "\n",
    "def get_player_averages(df, stats):\n",
    "    \"\"\"\n",
    "    Estimate player averages for all stats and FanDuel point histories,\n",
    "    for season-to-date, last 4 weeeks, and previous week\n",
    "    \"\"\"\n",
    "    feature_names = []\n",
    "    for stat in df[stats + ['FPoints']]:\n",
    "        df['season_{}'.format(stat)] = df.groupby('Name')[stat].apply(lambda x: rolling_average(x, 16))\n",
    "        df['recent_{}'.format(stat)] = df.groupby('Name')[stat].apply(lambda x: rolling_average(x, 4))\n",
    "        df['prev_{}'.format(stat)] = df.groupby('Name')[stat].apply(lambda x: rolling_average(x, 1))\n",
    "        feature_names = feature_names + [time + \"_\" + stat for time in ['season', 'recent', 'prev']]\n",
    "    return df, feature_names\n",
    "\n",
    "\n",
    "path = \"data/\"\n",
    "train, features = data_processing(path + 'QB_all.csv', path + 'teams_all.csv')\n",
    "# test, features2 = data_processing(path + 'gamelog_QB_2018.csv', path + 'teams_2018.csv')\n",
    "# if (features != features2):\n",
    "#     print(\"Debug error about feature inconsistency\")\n",
    "#     exit()"
   ]
  },
  {
   "cell_type": "code",
   "execution_count": 4,
   "metadata": {},
   "outputs": [],
   "source": [
    "train.to_csv('train.csv')"
   ]
  },
  {
   "cell_type": "code",
   "execution_count": 5,
   "metadata": {
    "scrolled": true
   },
   "outputs": [
    {
     "name": "stdout",
     "output_type": "stream",
     "text": [
      "['season_Passing Yds', 'recent_Passing Yds', 'prev_Passing Yds', 'season_FPoints', 'recent_FPoints', 'prev_FPoints', 'Passing Yds', 'Passing 1stD', 'Sc%', 'Unnamed: 26_level_0 TO%', 'FPoints']\n"
     ]
    },
    {
     "data": {
      "text/html": [
       "<div>\n",
       "<style scoped>\n",
       "    .dataframe tbody tr th:only-of-type {\n",
       "        vertical-align: middle;\n",
       "    }\n",
       "\n",
       "    .dataframe tbody tr th {\n",
       "        vertical-align: top;\n",
       "    }\n",
       "\n",
       "    .dataframe thead th {\n",
       "        text-align: right;\n",
       "    }\n",
       "</style>\n",
       "<table border=\"1\" class=\"dataframe\">\n",
       "  <thead>\n",
       "    <tr style=\"text-align: right;\">\n",
       "      <th></th>\n",
       "      <th>count</th>\n",
       "      <th>mean</th>\n",
       "      <th>std</th>\n",
       "      <th>min</th>\n",
       "      <th>25%</th>\n",
       "      <th>50%</th>\n",
       "      <th>75%</th>\n",
       "      <th>max</th>\n",
       "    </tr>\n",
       "  </thead>\n",
       "  <tbody>\n",
       "    <tr>\n",
       "      <td>season_Passing Yds</td>\n",
       "      <td>4705.0</td>\n",
       "      <td>3577.187646</td>\n",
       "      <td>597.565648</td>\n",
       "      <td>0.00</td>\n",
       "      <td>3510.0000</td>\n",
       "      <td>3671.7500</td>\n",
       "      <td>3816.875</td>\n",
       "      <td>4681.000</td>\n",
       "    </tr>\n",
       "    <tr>\n",
       "      <td>recent_Passing Yds</td>\n",
       "      <td>4705.0</td>\n",
       "      <td>3590.444757</td>\n",
       "      <td>614.186345</td>\n",
       "      <td>0.00</td>\n",
       "      <td>3489.0000</td>\n",
       "      <td>3674.5000</td>\n",
       "      <td>3857.250</td>\n",
       "      <td>4681.000</td>\n",
       "    </tr>\n",
       "    <tr>\n",
       "      <td>prev_Passing Yds</td>\n",
       "      <td>4705.0</td>\n",
       "      <td>3596.502657</td>\n",
       "      <td>687.417622</td>\n",
       "      <td>0.00</td>\n",
       "      <td>3382.0000</td>\n",
       "      <td>3688.0000</td>\n",
       "      <td>3949.000</td>\n",
       "      <td>4796.000</td>\n",
       "    </tr>\n",
       "    <tr>\n",
       "      <td>season_FPoints</td>\n",
       "      <td>4705.0</td>\n",
       "      <td>14.193563</td>\n",
       "      <td>4.887679</td>\n",
       "      <td>-1.52</td>\n",
       "      <td>11.6525</td>\n",
       "      <td>14.5225</td>\n",
       "      <td>17.385</td>\n",
       "      <td>30.680</td>\n",
       "    </tr>\n",
       "    <tr>\n",
       "      <td>recent_FPoints</td>\n",
       "      <td>4705.0</td>\n",
       "      <td>14.280995</td>\n",
       "      <td>5.692056</td>\n",
       "      <td>-1.52</td>\n",
       "      <td>10.9700</td>\n",
       "      <td>14.5400</td>\n",
       "      <td>17.945</td>\n",
       "      <td>31.335</td>\n",
       "    </tr>\n",
       "    <tr>\n",
       "      <td>prev_FPoints</td>\n",
       "      <td>4705.0</td>\n",
       "      <td>14.275439</td>\n",
       "      <td>8.331501</td>\n",
       "      <td>-6.60</td>\n",
       "      <td>8.5000</td>\n",
       "      <td>14.2000</td>\n",
       "      <td>19.640</td>\n",
       "      <td>49.320</td>\n",
       "    </tr>\n",
       "    <tr>\n",
       "      <td>Passing Yds</td>\n",
       "      <td>4705.0</td>\n",
       "      <td>3683.977683</td>\n",
       "      <td>393.646384</td>\n",
       "      <td>2459.00</td>\n",
       "      <td>3423.0000</td>\n",
       "      <td>3697.0000</td>\n",
       "      <td>3947.000</td>\n",
       "      <td>4796.000</td>\n",
       "    </tr>\n",
       "    <tr>\n",
       "      <td>Passing 1stD</td>\n",
       "      <td>4705.0</td>\n",
       "      <td>189.320935</td>\n",
       "      <td>20.182076</td>\n",
       "      <td>128.00</td>\n",
       "      <td>176.0000</td>\n",
       "      <td>189.0000</td>\n",
       "      <td>201.000</td>\n",
       "      <td>247.000</td>\n",
       "    </tr>\n",
       "    <tr>\n",
       "      <td>Sc%</td>\n",
       "      <td>4705.0</td>\n",
       "      <td>33.928948</td>\n",
       "      <td>4.976659</td>\n",
       "      <td>20.30</td>\n",
       "      <td>30.4000</td>\n",
       "      <td>33.7000</td>\n",
       "      <td>37.800</td>\n",
       "      <td>46.400</td>\n",
       "    </tr>\n",
       "    <tr>\n",
       "      <td>Unnamed: 26_level_0 TO%</td>\n",
       "      <td>4705.0</td>\n",
       "      <td>12.367120</td>\n",
       "      <td>3.048711</td>\n",
       "      <td>3.90</td>\n",
       "      <td>10.2000</td>\n",
       "      <td>12.4000</td>\n",
       "      <td>14.300</td>\n",
       "      <td>21.000</td>\n",
       "    </tr>\n",
       "  </tbody>\n",
       "</table>\n",
       "</div>"
      ],
      "text/plain": [
       "                          count         mean         std      min        25%  \\\n",
       "season_Passing Yds       4705.0  3577.187646  597.565648     0.00  3510.0000   \n",
       "recent_Passing Yds       4705.0  3590.444757  614.186345     0.00  3489.0000   \n",
       "prev_Passing Yds         4705.0  3596.502657  687.417622     0.00  3382.0000   \n",
       "season_FPoints           4705.0    14.193563    4.887679    -1.52    11.6525   \n",
       "recent_FPoints           4705.0    14.280995    5.692056    -1.52    10.9700   \n",
       "prev_FPoints             4705.0    14.275439    8.331501    -6.60     8.5000   \n",
       "Passing Yds              4705.0  3683.977683  393.646384  2459.00  3423.0000   \n",
       "Passing 1stD             4705.0   189.320935   20.182076   128.00   176.0000   \n",
       "Sc%                      4705.0    33.928948    4.976659    20.30    30.4000   \n",
       "Unnamed: 26_level_0 TO%  4705.0    12.367120    3.048711     3.90    10.2000   \n",
       "\n",
       "                               50%       75%       max  \n",
       "season_Passing Yds       3671.7500  3816.875  4681.000  \n",
       "recent_Passing Yds       3674.5000  3857.250  4681.000  \n",
       "prev_Passing Yds         3688.0000  3949.000  4796.000  \n",
       "season_FPoints             14.5225    17.385    30.680  \n",
       "recent_FPoints             14.5400    17.945    31.335  \n",
       "prev_FPoints               14.2000    19.640    49.320  \n",
       "Passing Yds              3697.0000  3947.000  4796.000  \n",
       "Passing 1stD              189.0000   201.000   247.000  \n",
       "Sc%                        33.7000    37.800    46.400  \n",
       "Unnamed: 26_level_0 TO%    12.4000    14.300    21.000  "
      ]
     },
     "execution_count": 5,
     "metadata": {},
     "output_type": "execute_result"
    }
   ],
   "source": [
    "features.append('FPoints')\n",
    "# features.remove('home')\n",
    "features.remove('season_FPoints')\n",
    "features.remove('recent_FPoints')\n",
    "features.remove('prev_FPoints')\n",
    "# print(features)\n",
    "dataset = train[features]\n",
    "# dataset\n",
    "train_dataset = dataset.sample(frac=0.8,random_state=0)\n",
    "# print(train_dataset)\n",
    "test_dataset = dataset.drop(train_dataset.index)\n",
    "train_stats = train_dataset.describe(include='all')\n",
    "train_stats.pop('FPoints')\n",
    "train_stats = train_stats.transpose()\n",
    "# train_stats"
   ]
  },
  {
   "cell_type": "code",
   "execution_count": 6,
   "metadata": {},
   "outputs": [
    {
     "data": {
      "text/plain": [
       "840     19.28\n",
       "3161     0.00\n",
       "3065    12.24\n",
       "3067    16.92\n",
       "3924    15.26\n",
       "        ...  \n",
       "3436    11.50\n",
       "4256     0.00\n",
       "5692    17.16\n",
       "5612     7.34\n",
       "5308    13.50\n",
       "Name: FPoints, Length: 4705, dtype: float64"
      ]
     },
     "execution_count": 6,
     "metadata": {},
     "output_type": "execute_result"
    }
   ],
   "source": [
    "train_labels = train_dataset.pop('FPoints')\n",
    "test_labels = test_dataset.pop('FPoints')\n",
    "train_labels"
   ]
  },
  {
   "cell_type": "code",
   "execution_count": 70,
   "metadata": {},
   "outputs": [],
   "source": [
    "def build_model():\n",
    "#     model = keras.Sequential([\n",
    "#         layers.Dense(8, activation='tanh', input_shape=[len(train_dataset.keys())]),\n",
    "# #         layers.Dense(16, activation='relu'),\n",
    "#         layers.Dense(1)\n",
    "#     ])\n",
    "\n",
    "\n",
    "    model=keras.Sequential()\n",
    "#     model.add(layers.Dense(64,input_shape=[len(train_dataset.keys())]))\n",
    "    model.add(layers.Dense(16,input_shape=[len(train_dataset.keys())]))\n",
    "    model.add(layers.LeakyReLU(alpha=0.3))\n",
    "    model.add(layers.Dense(16,input_shape=[len(train_dataset.keys())]))\n",
    "    model.add(layers.LeakyReLU(alpha=0.3))\n",
    "    model.add(layers.Dense(1))\n",
    "\n",
    "    optimizer = tf.keras.optimizers.RMSprop(0.07)\n",
    "\n",
    "    model.compile(loss='mse',\n",
    "                    optimizer=optimizer,\n",
    "                    metrics=['mae', 'mse'])\n",
    "    return model\n",
    "model = build_model()"
   ]
  },
  {
   "cell_type": "code",
   "execution_count": 71,
   "metadata": {},
   "outputs": [],
   "source": [
    "def norm(x):\n",
    "  return (x - train_stats['mean']) / train_stats['std']\n",
    "normed_train_data = norm(train_dataset)\n",
    "normed_test_data = norm(test_dataset)"
   ]
  },
  {
   "cell_type": "code",
   "execution_count": 72,
   "metadata": {},
   "outputs": [
    {
     "data": {
      "text/html": [
       "<div>\n",
       "<style scoped>\n",
       "    .dataframe tbody tr th:only-of-type {\n",
       "        vertical-align: middle;\n",
       "    }\n",
       "\n",
       "    .dataframe tbody tr th {\n",
       "        vertical-align: top;\n",
       "    }\n",
       "\n",
       "    .dataframe thead th {\n",
       "        text-align: right;\n",
       "    }\n",
       "</style>\n",
       "<table border=\"1\" class=\"dataframe\">\n",
       "  <thead>\n",
       "    <tr style=\"text-align: right;\">\n",
       "      <th></th>\n",
       "      <th>season_Passing Yds</th>\n",
       "      <th>recent_Passing Yds</th>\n",
       "      <th>prev_Passing Yds</th>\n",
       "      <th>season_FPoints</th>\n",
       "      <th>recent_FPoints</th>\n",
       "      <th>prev_FPoints</th>\n",
       "      <th>Passing Yds</th>\n",
       "      <th>Passing 1stD</th>\n",
       "      <th>Sc%</th>\n",
       "      <th>Unnamed: 26_level_0 TO%</th>\n",
       "    </tr>\n",
       "  </thead>\n",
       "  <tbody>\n",
       "    <tr>\n",
       "      <td>840</td>\n",
       "      <td>0.042777</td>\n",
       "      <td>0.020035</td>\n",
       "      <td>-0.312041</td>\n",
       "      <td>-0.539840</td>\n",
       "      <td>-0.478912</td>\n",
       "      <td>-1.362952</td>\n",
       "      <td>-1.183747</td>\n",
       "      <td>-1.056429</td>\n",
       "      <td>-1.733884</td>\n",
       "      <td>2.831649</td>\n",
       "    </tr>\n",
       "    <tr>\n",
       "      <td>3161</td>\n",
       "      <td>0.169646</td>\n",
       "      <td>0.201983</td>\n",
       "      <td>0.522968</td>\n",
       "      <td>-0.570529</td>\n",
       "      <td>-0.387557</td>\n",
       "      <td>-0.517967</td>\n",
       "      <td>-0.007564</td>\n",
       "      <td>-0.660038</td>\n",
       "      <td>-0.508162</td>\n",
       "      <td>-0.678031</td>\n",
       "    </tr>\n",
       "    <tr>\n",
       "      <td>3065</td>\n",
       "      <td>0.658191</td>\n",
       "      <td>0.618795</td>\n",
       "      <td>0.789182</td>\n",
       "      <td>0.609990</td>\n",
       "      <td>0.508429</td>\n",
       "      <td>0.679897</td>\n",
       "      <td>0.706274</td>\n",
       "      <td>-0.015902</td>\n",
       "      <td>-1.291820</td>\n",
       "      <td>1.093209</td>\n",
       "    </tr>\n",
       "    <tr>\n",
       "      <td>3067</td>\n",
       "      <td>0.537423</td>\n",
       "      <td>0.551633</td>\n",
       "      <td>-0.073467</td>\n",
       "      <td>0.405735</td>\n",
       "      <td>0.439912</td>\n",
       "      <td>0.221396</td>\n",
       "      <td>2.418471</td>\n",
       "      <td>2.461544</td>\n",
       "      <td>-0.246942</td>\n",
       "      <td>0.962007</td>\n",
       "    </tr>\n",
       "    <tr>\n",
       "      <td>3924</td>\n",
       "      <td>0.702328</td>\n",
       "      <td>0.596407</td>\n",
       "      <td>0.118556</td>\n",
       "      <td>0.822003</td>\n",
       "      <td>1.691657</td>\n",
       "      <td>1.265626</td>\n",
       "      <td>-0.121880</td>\n",
       "      <td>-0.858234</td>\n",
       "      <td>0.556810</td>\n",
       "      <td>-2.219666</td>\n",
       "    </tr>\n",
       "    <tr>\n",
       "      <td>5176</td>\n",
       "      <td>-0.029600</td>\n",
       "      <td>0.136449</td>\n",
       "      <td>-0.552070</td>\n",
       "      <td>-0.766941</td>\n",
       "      <td>-0.116126</td>\n",
       "      <td>0.298213</td>\n",
       "      <td>0.000057</td>\n",
       "      <td>-0.015902</td>\n",
       "      <td>0.456341</td>\n",
       "      <td>-1.793256</td>\n",
       "    </tr>\n",
       "    <tr>\n",
       "      <td>842</td>\n",
       "      <td>-0.016770</td>\n",
       "      <td>0.061553</td>\n",
       "      <td>0.258209</td>\n",
       "      <td>-0.053924</td>\n",
       "      <td>-0.189034</td>\n",
       "      <td>0.456648</td>\n",
       "      <td>0.617362</td>\n",
       "      <td>0.727332</td>\n",
       "      <td>-0.046004</td>\n",
       "      <td>-0.546828</td>\n",
       "    </tr>\n",
       "    <tr>\n",
       "      <td>1789</td>\n",
       "      <td>0.025311</td>\n",
       "      <td>0.149068</td>\n",
       "      <td>0.620434</td>\n",
       "      <td>0.488256</td>\n",
       "      <td>0.378423</td>\n",
       "      <td>1.030374</td>\n",
       "      <td>2.588674</td>\n",
       "      <td>2.758837</td>\n",
       "      <td>-0.267036</td>\n",
       "      <td>1.552420</td>\n",
       "    </tr>\n",
       "    <tr>\n",
       "      <td>3768</td>\n",
       "      <td>0.347869</td>\n",
       "      <td>0.578090</td>\n",
       "      <td>0.384770</td>\n",
       "      <td>1.285157</td>\n",
       "      <td>1.240150</td>\n",
       "      <td>-0.722011</td>\n",
       "      <td>0.967930</td>\n",
       "      <td>0.132745</td>\n",
       "      <td>-0.427787</td>\n",
       "      <td>-0.087617</td>\n",
       "    </tr>\n",
       "    <tr>\n",
       "      <td>2030</td>\n",
       "      <td>0.152640</td>\n",
       "      <td>0.163721</td>\n",
       "      <td>0.146195</td>\n",
       "      <td>-1.538064</td>\n",
       "      <td>-1.121914</td>\n",
       "      <td>-0.923656</td>\n",
       "      <td>-0.972898</td>\n",
       "      <td>-1.155527</td>\n",
       "      <td>0.396059</td>\n",
       "      <td>-1.137241</td>\n",
       "    </tr>\n",
       "  </tbody>\n",
       "</table>\n",
       "</div>"
      ],
      "text/plain": [
       "      season_Passing Yds  recent_Passing Yds  prev_Passing Yds  \\\n",
       "840             0.042777            0.020035         -0.312041   \n",
       "3161            0.169646            0.201983          0.522968   \n",
       "3065            0.658191            0.618795          0.789182   \n",
       "3067            0.537423            0.551633         -0.073467   \n",
       "3924            0.702328            0.596407          0.118556   \n",
       "5176           -0.029600            0.136449         -0.552070   \n",
       "842            -0.016770            0.061553          0.258209   \n",
       "1789            0.025311            0.149068          0.620434   \n",
       "3768            0.347869            0.578090          0.384770   \n",
       "2030            0.152640            0.163721          0.146195   \n",
       "\n",
       "      season_FPoints  recent_FPoints  prev_FPoints  Passing Yds  Passing 1stD  \\\n",
       "840        -0.539840       -0.478912     -1.362952    -1.183747     -1.056429   \n",
       "3161       -0.570529       -0.387557     -0.517967    -0.007564     -0.660038   \n",
       "3065        0.609990        0.508429      0.679897     0.706274     -0.015902   \n",
       "3067        0.405735        0.439912      0.221396     2.418471      2.461544   \n",
       "3924        0.822003        1.691657      1.265626    -0.121880     -0.858234   \n",
       "5176       -0.766941       -0.116126      0.298213     0.000057     -0.015902   \n",
       "842        -0.053924       -0.189034      0.456648     0.617362      0.727332   \n",
       "1789        0.488256        0.378423      1.030374     2.588674      2.758837   \n",
       "3768        1.285157        1.240150     -0.722011     0.967930      0.132745   \n",
       "2030       -1.538064       -1.121914     -0.923656    -0.972898     -1.155527   \n",
       "\n",
       "           Sc%  Unnamed: 26_level_0 TO%  \n",
       "840  -1.733884                 2.831649  \n",
       "3161 -0.508162                -0.678031  \n",
       "3065 -1.291820                 1.093209  \n",
       "3067 -0.246942                 0.962007  \n",
       "3924  0.556810                -2.219666  \n",
       "5176  0.456341                -1.793256  \n",
       "842  -0.046004                -0.546828  \n",
       "1789 -0.267036                 1.552420  \n",
       "3768 -0.427787                -0.087617  \n",
       "2030  0.396059                -1.137241  "
      ]
     },
     "execution_count": 72,
     "metadata": {},
     "output_type": "execute_result"
    }
   ],
   "source": [
    "example_batch = normed_train_data[:10]\n",
    "example_batch"
   ]
  },
  {
   "cell_type": "code",
   "execution_count": 73,
   "metadata": {},
   "outputs": [
    {
     "name": "stdout",
     "output_type": "stream",
     "text": [
      "WARNING:tensorflow:Falling back from v2 loop because of error: Failed to find data adapter that can handle input: <class 'pandas.core.frame.DataFrame'>, <class 'NoneType'>\n"
     ]
    },
    {
     "data": {
      "text/plain": [
       "array([[-1.1687758 ],\n",
       "       [-0.00868736],\n",
       "       [-0.96535975],\n",
       "       [-0.38398603],\n",
       "       [-0.8422428 ],\n",
       "       [ 0.34834462],\n",
       "       [ 0.02119172],\n",
       "       [-0.6438642 ],\n",
       "       [-0.9199188 ],\n",
       "       [-0.09226994]], dtype=float32)"
      ]
     },
     "execution_count": 73,
     "metadata": {},
     "output_type": "execute_result"
    }
   ],
   "source": [
    "example_result = model.predict(example_batch)\n",
    "example_result"
   ]
  },
  {
   "cell_type": "code",
   "execution_count": 74,
   "metadata": {},
   "outputs": [
    {
     "name": "stdout",
     "output_type": "stream",
     "text": [
      "(4705, 10) (4705,)\n",
      "WARNING:tensorflow:Falling back from v2 loop because of error: Failed to find data adapter that can handle input: <class 'pandas.core.frame.DataFrame'>, <class 'NoneType'>\n",
      "\n",
      "...................................................................................................."
     ]
    }
   ],
   "source": [
    "# Display training progress by printing a single dot for each completed epoch\n",
    "class PrintDot(keras.callbacks.Callback):\n",
    "  def on_epoch_end(self, epoch, logs):\n",
    "    if epoch % 100 == 0: print('')\n",
    "    print('.', end='')\n",
    "\n",
    "EPOCHS = 100\n",
    "\n",
    "print(normed_train_data.shape, train_labels.shape)\n",
    "\n",
    "history = model.fit(\n",
    "  normed_train_data, train_labels,\n",
    "  epochs=EPOCHS, validation_split = 0.2, verbose=0,\n",
    "  callbacks=[PrintDot()])"
   ]
  },
  {
   "cell_type": "code",
   "execution_count": 75,
   "metadata": {},
   "outputs": [
    {
     "data": {
      "text/html": [
       "<div>\n",
       "<style scoped>\n",
       "    .dataframe tbody tr th:only-of-type {\n",
       "        vertical-align: middle;\n",
       "    }\n",
       "\n",
       "    .dataframe tbody tr th {\n",
       "        vertical-align: top;\n",
       "    }\n",
       "\n",
       "    .dataframe thead th {\n",
       "        text-align: right;\n",
       "    }\n",
       "</style>\n",
       "<table border=\"1\" class=\"dataframe\">\n",
       "  <thead>\n",
       "    <tr style=\"text-align: right;\">\n",
       "      <th></th>\n",
       "      <th>loss</th>\n",
       "      <th>mae</th>\n",
       "      <th>mse</th>\n",
       "      <th>val_loss</th>\n",
       "      <th>val_mae</th>\n",
       "      <th>val_mse</th>\n",
       "      <th>epoch</th>\n",
       "    </tr>\n",
       "  </thead>\n",
       "  <tbody>\n",
       "    <tr>\n",
       "      <td>95</td>\n",
       "      <td>56.069976</td>\n",
       "      <td>6.002429</td>\n",
       "      <td>56.069973</td>\n",
       "      <td>52.396615</td>\n",
       "      <td>5.713422</td>\n",
       "      <td>52.396614</td>\n",
       "      <td>95</td>\n",
       "    </tr>\n",
       "    <tr>\n",
       "      <td>96</td>\n",
       "      <td>56.075322</td>\n",
       "      <td>6.030626</td>\n",
       "      <td>56.075302</td>\n",
       "      <td>52.999971</td>\n",
       "      <td>5.724544</td>\n",
       "      <td>52.999966</td>\n",
       "      <td>96</td>\n",
       "    </tr>\n",
       "    <tr>\n",
       "      <td>97</td>\n",
       "      <td>56.068782</td>\n",
       "      <td>6.022595</td>\n",
       "      <td>56.068779</td>\n",
       "      <td>58.809057</td>\n",
       "      <td>5.987381</td>\n",
       "      <td>58.809063</td>\n",
       "      <td>97</td>\n",
       "    </tr>\n",
       "    <tr>\n",
       "      <td>98</td>\n",
       "      <td>55.997938</td>\n",
       "      <td>6.018279</td>\n",
       "      <td>55.997936</td>\n",
       "      <td>54.138871</td>\n",
       "      <td>5.789670</td>\n",
       "      <td>54.138870</td>\n",
       "      <td>98</td>\n",
       "    </tr>\n",
       "    <tr>\n",
       "      <td>99</td>\n",
       "      <td>55.962042</td>\n",
       "      <td>6.010502</td>\n",
       "      <td>55.962051</td>\n",
       "      <td>54.308675</td>\n",
       "      <td>5.762369</td>\n",
       "      <td>54.308670</td>\n",
       "      <td>99</td>\n",
       "    </tr>\n",
       "  </tbody>\n",
       "</table>\n",
       "</div>"
      ],
      "text/plain": [
       "         loss       mae        mse   val_loss   val_mae    val_mse  epoch\n",
       "95  56.069976  6.002429  56.069973  52.396615  5.713422  52.396614     95\n",
       "96  56.075322  6.030626  56.075302  52.999971  5.724544  52.999966     96\n",
       "97  56.068782  6.022595  56.068779  58.809057  5.987381  58.809063     97\n",
       "98  55.997938  6.018279  55.997936  54.138871  5.789670  54.138870     98\n",
       "99  55.962042  6.010502  55.962051  54.308675  5.762369  54.308670     99"
      ]
     },
     "execution_count": 75,
     "metadata": {},
     "output_type": "execute_result"
    }
   ],
   "source": [
    "hist = pd.DataFrame(history.history)\n",
    "hist['epoch'] = history.epoch\n",
    "hist.tail()"
   ]
  },
  {
   "cell_type": "code",
   "execution_count": 76,
   "metadata": {},
   "outputs": [
    {
     "data": {
      "image/png": "[encoded data removed]",
      "text/plain": [
       "<Figure size 432x288 with 1 Axes>"
      ]
     },
     "metadata": {
      "needs_background": "light"
     },
     "output_type": "display_data"
    },
    {
     "data": {
      "image/png": "[encoded data removed]",
      "text/plain": [
       "<Figure size 432x288 with 1 Axes>"
      ]
     },
     "metadata": {
      "needs_background": "light"
     },
     "output_type": "display_data"
    }
   ],
   "source": [
    "def plot_history(history):\n",
    "  hist = pd.DataFrame(history.history)\n",
    "  hist['epoch'] = history.epoch\n",
    "\n",
    "  plt.figure()\n",
    "  plt.xlabel('Epoch')\n",
    "  plt.ylabel('Mean Abs Error [points]')\n",
    "  plt.plot(hist['epoch'], hist['mae'],\n",
    "           label='Train Error')\n",
    "  plt.plot(hist['epoch'], hist['val_mae'],\n",
    "           label = 'Val Error')\n",
    "  plt.ylim([5,10])\n",
    "  plt.legend()\n",
    "\n",
    "  plt.figure()\n",
    "  plt.xlabel('Epoch')\n",
    "  plt.ylabel('Mean Square Error [points^2]')\n",
    "  plt.plot(hist['epoch'], hist['mse'],\n",
    "           label='Train Error')\n",
    "  plt.plot(hist['epoch'], hist['val_mse'],\n",
    "           label = 'Val Error')\n",
    "  plt.ylim([50,100])\n",
    "  plt.legend()\n",
    "  plt.show()\n",
    "plot_history(history)"
   ]
  },
  {
   "cell_type": "code",
   "execution_count": 77,
   "metadata": {
    "scrolled": true
   },
   "outputs": [
    {
     "name": "stdout",
     "output_type": "stream",
     "text": [
      "WARNING:tensorflow:Falling back from v2 loop because of error: Failed to find data adapter that can handle input: <class 'pandas.core.frame.DataFrame'>, <class 'NoneType'>\n",
      "\n",
      "..........................."
     ]
    },
    {
     "data": {
      "image/png": "[encoded data removed]",
      "text/plain": [
       "<Figure size 432x288 with 1 Axes>"
      ]
     },
     "metadata": {
      "needs_background": "light"
     },
     "output_type": "display_data"
    },
    {
     "data": {
      "image/png": "[encoded data removed]",
      "text/plain": [
       "<Figure size 432x288 with 1 Axes>"
      ]
     },
     "metadata": {
      "needs_background": "light"
     },
     "output_type": "display_data"
    }
   ],
   "source": [
    "model = build_model()\n",
    "\n",
    "# The patience parameter is the amount of epochs to check for improvement\n",
    "early_stop = keras.callbacks.EarlyStopping(monitor='val_loss', patience=10)\n",
    "\n",
    "history = model.fit(normed_train_data, train_labels, epochs=EPOCHS,\n",
    "                    validation_split = 0.2, verbose=0, callbacks=[early_stop, PrintDot()])\n",
    "\n",
    "plot_history(history)"
   ]
  },
  {
   "cell_type": "code",
   "execution_count": 78,
   "metadata": {},
   "outputs": [
    {
     "name": "stdout",
     "output_type": "stream",
     "text": [
      "WARNING:tensorflow:Falling back from v2 loop because of error: Failed to find data adapter that can handle input: <class 'pandas.core.frame.DataFrame'>, <class 'NoneType'>\n",
      "1176/1176 - 0s - loss: 60.9318 - mae: 6.2402 - mse: 60.9318\n",
      "Testing set Mean Abs Error:  6.24 points\n"
     ]
    }
   ],
   "source": [
    "loss, mae, mse = model.evaluate(normed_test_data, test_labels, verbose=2)\n",
    "print(\"Testing set Mean Abs Error: {:5.2f} points\".format(mae))"
   ]
  },
  {
   "cell_type": "code",
   "execution_count": 79,
   "metadata": {},
   "outputs": [
    {
     "name": "stdout",
     "output_type": "stream",
     "text": [
      "WARNING:tensorflow:Falling back from v2 loop because of error: Failed to find data adapter that can handle input: <class 'pandas.core.frame.DataFrame'>, <class 'NoneType'>\n"
     ]
    },
    {
     "data": {
      "image/png": "[encoded data removed]",
      "text/plain": [
       "<Figure size 432x288 with 1 Axes>"
      ]
     },
     "metadata": {
      "needs_background": "light"
     },
     "output_type": "display_data"
    }
   ],
   "source": [
    "test_predictions = model.predict(normed_test_data).flatten()\n",
    "\n",
    "plt.scatter(test_labels, test_predictions)\n",
    "plt.xlabel('True Values [points]')\n",
    "plt.ylabel('Predictions [points]')\n",
    "plt.axis('equal')\n",
    "plt.axis('square')\n",
    "plt.xlim([0,plt.xlim()[1]])\n",
    "plt.ylim([0,plt.ylim()[1]])\n",
    "_ = plt.plot([-100, 100], [-100, 100])"
   ]
  },
  {
   "cell_type": "code",
   "execution_count": 80,
   "metadata": {},
   "outputs": [
    {
     "data": {
      "image/png": "[encoded data removed]",
      "text/plain": [
       "<Figure size 432x288 with 1 Axes>"
      ]
     },
     "metadata": {
      "needs_background": "light"
     },
     "output_type": "display_data"
    }
   ],
   "source": [
    "error = test_predictions - test_labels\n",
    "plt.hist(error, bins = 25)\n",
    "plt.xlabel(\"Prediction Error [points]\")\n",
    "_ = plt.ylabel(\"Count\")"
   ]
  },
  {
   "cell_type": "code",
   "execution_count": null,
   "metadata": {},
   "outputs": [],
   "source": []
  }
 ],
 "metadata": {
  "kernelspec": {
   "display_name": "Python 3",
   "language": "python",
   "name": "python3"
  },
  "language_info": {
   "codemirror_mode": {
    "name": "ipython",
    "version": 3
   },
   "file_extension": ".py",
   "mimetype": "text/x-python",
   "name": "python",
   "nbconvert_exporter": "python",
   "pygments_lexer": "ipython3",
   "version": "3.7.4"
  }
 },
 "nbformat": 4,
 "nbformat_minor": 2
}
